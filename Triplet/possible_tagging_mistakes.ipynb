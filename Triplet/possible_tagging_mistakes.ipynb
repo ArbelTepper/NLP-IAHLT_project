{
 "cells": [
  {
   "cell_type": "code",
   "execution_count": 1,
   "id": "f3303c49",
   "metadata": {},
   "outputs": [
    {
     "name": "stdout",
     "output_type": "stream",
     "text": [
      "importing Jupyter notebook from Classes_and_functions.ipynb\n"
     ]
    }
   ],
   "source": [
    "import import_ipynb #allows to use Jupyter notebooks as modules\n",
    "import Classes_and_functions as cf\n",
    "\n",
    "import os\n",
    "import pyconll"
   ]
  },
  {
   "cell_type": "code",
   "execution_count": 2,
   "id": "78178f14",
   "metadata": {},
   "outputs": [],
   "source": [
    "conll_files = []\n",
    "\n",
    "directory = \"C:\\Python\\IAHLT\\Data\"\n",
    "for file in os.listdir(directory):\n",
    "    conll_files.append(pyconll.load_from_file(directory + \"\\\\\" + file))"
   ]
  },
  {
   "cell_type": "code",
   "execution_count": 3,
   "id": "581a12e6",
   "metadata": {},
   "outputs": [],
   "source": [
    "all_sentences = []\n",
    "\n",
    "for file in conll_files:\n",
    "    for sentence in file:\n",
    "            all_sentences.append(sentence)"
   ]
  },
  {
   "cell_type": "code",
   "execution_count": 8,
   "id": "988b5b4a",
   "metadata": {},
   "outputs": [
    {
     "name": "stdout",
     "output_type": "stream",
     "text": [
      "True\n"
     ]
    }
   ],
   "source": [
    "all_sentences2 = [sentence for file in conll_files for sentence in file]\n",
    "\n",
    "print (all_sentences==all_sentences2)"
   ]
  },
  {
   "cell_type": "code",
   "execution_count": 4,
   "id": "36848fbb",
   "metadata": {},
   "outputs": [],
   "source": [
    "all_triplets = []\n",
    "\n",
    "for sentence in all_sentences:\n",
    "    sentence_tokens = cf.get_tokens(sentence)\n",
    "    for token in sentence_tokens:\n",
    "        if token == None: # The 0th value in the list is None because token indices begin at 1\n",
    "            continue\n",
    "        if cf.is_root(token):\n",
    "            current_tpl = cf.get_root_triplet(all_triplets, token)\n",
    "            _ = current_tpl.update_triplet(token, sentence)\n",
    "        else:\n",
    "            head = sentence_tokens[int(token.head)]\n",
    "            current_tpl = cf.get_triplet(all_triplets, token, head)\n",
    "            _ = current_tpl.update_triplet(token, head, sentence)"
   ]
  },
  {
   "cell_type": "markdown",
   "id": "e35dd1c0",
   "metadata": {},
   "source": [
    "### Triplets with a low number of occurances"
   ]
  },
  {
   "cell_type": "code",
   "execution_count": 5,
   "id": "14e19261",
   "metadata": {},
   "outputs": [],
   "source": [
    "bar = 5\n",
    "below_bar = []\n",
    "\n",
    "for tpl in all_triplets:\n",
    "    if tpl.counter <= bar:\n",
    "        below_bar.append(tpl)\n",
    "        \n",
    "below_bar = sorted(below_bar, key= lambda x:x.counter)"
   ]
  },
  {
   "cell_type": "code",
   "execution_count": 6,
   "id": "391d6ecb",
   "metadata": {},
   "outputs": [
    {
     "data": {
      "text/plain": [
       "543"
      ]
     },
     "execution_count": 6,
     "metadata": {},
     "output_type": "execute_result"
    }
   ],
   "source": [
    "len(below_bar)"
   ]
  },
  {
   "cell_type": "code",
   "execution_count": 7,
   "id": "95164a39",
   "metadata": {},
   "outputs": [],
   "source": [
    "with open(\"possile_mistakes.txt\", 'w', encoding=\"utf-8\") as file:\n",
    "    for i, tpl in enumerate(below_bar):\n",
    "        if tpl.counter == 1:\n",
    "            file.write(f\"{i+1}) Triplet {tpl.name} occures {tpl.counter} time.\\n\")\n",
    "        else:\n",
    "            file.write(f\"{i+1}) Triplet {tpl.name} occures {tpl.counter} times.\\n\")\n",
    "        for i in range(tpl.counter):\n",
    "            file.write(f\"The {tpl.upos1} is: {tpl.upos1list[i]}.\\n\")\n",
    "            if tpl.upos2 != \"NONE\":\n",
    "                file.write(f\"The {tpl.upos2} is: {tpl.upos2list[i]}.\\n\")\n",
    "            file.write(f\"The sentence is: {tpl.sentences[i]}.\\n\")\n",
    "            file.write(\"\\n\")"
   ]
  }
 ],
 "metadata": {
  "kernelspec": {
   "display_name": "Python 3 (ipykernel)",
   "language": "python",
   "name": "python3"
  },
  "language_info": {
   "codemirror_mode": {
    "name": "ipython",
    "version": 3
   },
   "file_extension": ".py",
   "mimetype": "text/x-python",
   "name": "python",
   "nbconvert_exporter": "python",
   "pygments_lexer": "ipython3",
   "version": "3.11.1"
  }
 },
 "nbformat": 4,
 "nbformat_minor": 5
}
